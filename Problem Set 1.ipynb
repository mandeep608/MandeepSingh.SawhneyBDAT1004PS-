{
  "metadata": {
    "kernelspec": {
      "name": "python",
      "display_name": "Python (Pyodide)",
      "language": "python"
    },
    "language_info": {
      "codemirror_mode": {
        "name": "ipython",
        "version": 3
      },
      "file_extension": ".py",
      "mimetype": "text/x-python",
      "name": "python",
      "nbconvert_exporter": "python",
      "pygments_lexer": "ipython3",
      "version": "3.10.9"
    }
  },
  "nbformat_minor": 5,
  "nbformat": 4,
  "cells": [
    {
      "cell_type": "markdown",
      "source": "## Problem Set 1",
      "metadata": {},
      "id": "2aae96b4"
    },
    {
      "cell_type": "markdown",
      "source": "## Question 1 C# What data type is each of the following?",
      "metadata": {},
      "id": "f9b6c8f4"
    },
    {
      "cell_type": "markdown",
      "source": "5 - Integer (int)\n5.0 - Floating-point number (double)\n5 > 1 - Boolean (bool)\n'5' - Character (char)\n5 * 2 - Integer (int)\n'5' * 2 - String (string)\n'5' + '2' - String (string)\n5 / 2 - Floating-point number (double)\n5 % 2 - Integer (int)\n{5, 2, 1} - Array of integers (int[])\n5 == 3 - Boolean (bool)\nPi (the number) - Floating-point number (double)",
      "metadata": {},
      "id": "941bd032"
    },
    {
      "cell_type": "markdown",
      "source": "## Question 2 C# Write (and evaluate) C# expressions that answer these questions:",
      "metadata": {},
      "id": "efdfd8cb"
    },
    {
      "cell_type": "code",
      "source": "//To find total number of letters\nstring word = \"Supercalifragilisticexpialidocious\";\nint letterCount = word.Length;\nConsole.WriteLine(\"Number of letters: \" + letterCount);",
      "metadata": {},
      "execution_count": null,
      "outputs": [],
      "id": "ab621813"
    },
    {
      "cell_type": "markdown",
      "source": "Number of letters: 34",
      "metadata": {},
      "id": "1b9f7297"
    },
    {
      "cell_type": "code",
      "source": "//checking contain 'ice' as a substring\nstring word = \"Supercalifragilisticexpialidocious\";\nbool containsSubstring = word.Contains(\"ice\");\nConsole.WriteLine(\"Contains 'ice': \" + containsSubstring);",
      "metadata": {},
      "execution_count": null,
      "outputs": [],
      "id": "1a9200d2"
    },
    {
      "cell_type": "markdown",
      "source": "Contains 'ice': True",
      "metadata": {},
      "id": "3afaf314"
    },
    {
      "cell_type": "code",
      "source": "//Longest Word\nstring word1 = \"Supercalifragilisticexpialidocious\";\nstring word2 = \"Honorificabilitudinitatibus\";\nstring word3 = \"Bababadalgharaghtakamminarronnkonn\";\n\nstring longestWord = word1;\nif (word2.Length > longestWord.Length)\n{\n    longestWord = word2;\n}\nif (word3.Length > longestWord.Length)\n{\n    longestWord = word3;\n}\n\nConsole.WriteLine(\"Longest word: \" + longestWord);\n",
      "metadata": {},
      "execution_count": null,
      "outputs": [],
      "id": "4a24bc8d"
    },
    {
      "cell_type": "markdown",
      "source": "Longest word: Supercalifragilisticexpialidocious",
      "metadata": {},
      "id": "3eb88dc0"
    },
    {
      "cell_type": "code",
      "source": "string[] composers = { \"Berlioz\", \"Borodin\", \"Brian\", \"Bartok\", \"Bellini\", \"Buxtehude\", \"Bernstein\" };\nArray.Sort(composers);\n\nstring firstComposer = composers[0];\nstring lastComposer = composers[composers.Length - 1];\n\nConsole.WriteLine(\"First composer: \" + firstComposer);\nConsole.WriteLine(\"Last composer: \" + lastComposer);",
      "metadata": {},
      "execution_count": null,
      "outputs": [],
      "id": "4da0c98d"
    },
    {
      "cell_type": "code",
      "source": "First composer: Bartok\nLast composer: Buxtehude",
      "metadata": {
        "trusted": true
      },
      "execution_count": null,
      "outputs": [],
      "id": "a077b566"
    },
    {
      "cell_type": "markdown",
      "source": "## Question 3 C#\n## Implement function triangleArea(a,b,c) that takes as input the lengths of the 3sides of a triangle and returns the area of the triangle.\n",
      "metadata": {},
      "id": "f8180258"
    },
    {
      "cell_type": "code",
      "source": "//BY Heron's formula, finding the area of triangle\nusing System;\n\npublic class Program\n{\n    public static double TriangleArea(double a, double b, double c)\n    {\n        double s = (a + b + c) / 2;\n        double area = Math.Sqrt(s * (s - a) * (s - b) * (s - c));\n        return area;\n    }\n\n    public static void Main()\n    {\n        double area = TriangleArea(2, 2, 2);\n        Console.WriteLine(area);\n    }\n}\n",
      "metadata": {},
      "execution_count": null,
      "outputs": [],
      "id": "6324d81c"
    },
    {
      "cell_type": "markdown",
      "source": "1.7320508075688772\n",
      "metadata": {},
      "id": "a62e51fa"
    },
    {
      "cell_type": "markdown",
      "source": "## Question 4 C#\n## Write a program in C# Sharp to separate odd and even integers in separate arrays. \n",
      "metadata": {},
      "id": "5ed4f835"
    },
    {
      "cell_type": "code",
      "source": "//To separate odd and even integers in two separate arrays\n\nusing System;\npublic class Exercise10\n{\n    public static void Main()\n    {\n        int[] arr1 = new int[10];\n        int[] arr2 = new int[10];\n        int[] arr3 = new int[10];\n        int i, j = 0, k = 0, n;\n\n\n        Console.Write(\"\\n\\nSeparate odd and even integers in separate arrays:\\n\");\n        Console.Write(\"------------------------------------------------------\\n\");\n\n        Console.Write(\"Input the number of elements to be stored in the array :\");\n        n = Convert.ToInt32(Console.ReadLine());\n\n        Console.Write(\"Input {0} elements in the array :\\n\", n);\n        for (i = 0; i < n; i++)\n        {\n            Console.Write(\"element - {0} : \", i);\n            arr1[i] = Convert.ToInt32(Console.ReadLine());\n        }\n\n        for (i = 0; i < n; i++)\n        {\n            if (arr1[i] % 2 == 0)\n            {\n                arr2[j] = arr1[i];\n                j++;\n            }\n            else\n            {\n                arr3[k] = arr1[i];\n                k++;\n            }\n        }\n\n        Console.Write(\"\\nThe Even elements are : \\n\");\n        for (i = 0; i < j; i++)\n        {\n            Console.Write(\"{0} \", arr2[i]);\n        }\n\n        Console.Write(\"\\nThe Odd elements are :\\n\");\n        for (i = 0; i < k; i++)\n        {\n            Console.Write(\"{0} \", arr3[i]);\n        }\n        Console.Write(\"\\n\\n\");\n    }\n}\n",
      "metadata": {
        "trusted": true
      },
      "execution_count": null,
      "outputs": [],
      "id": "acff3cf1"
    },
    {
      "cell_type": "markdown",
      "source": "Separate odd and even integers in separate arrays:\n------------------------------------------------------\nInput the number of elements to be stored in the array :5\nInput 5 elements in the array :\nelement - 0 : 25\nelement - 1 : 47\nelement - 2 : 42\nelement - 3 : 56\nelement - 4 : 32\n\nThe Even elements are :\n42 56 32\nThe Odd elements are :\n25 47",
      "metadata": {
        "jp-MarkdownHeadingCollapsed": true
      },
      "id": "eb69ac31"
    },
    {
      "cell_type": "markdown",
      "source": "## Question 5 C#\n## A. Write a function inside(x,y,x1,y1,x2,y2) that returns True or False \n## depending on whether the point (x,y) lies in the rectangle with lower left \n## corner (x1,y1) and upper right corner (x2,y2).\n\n## B. Use function inside() from part a. to write an expression that tests whether \n## the point (1,1) lies in both of the following rectangles: one with lower left \n## corner (0.3, 0.5) and upper right corner (1.1, 0.7) and the other with lower \n## left corner (0.5, 0.2) and upper right corner (1.1, 2).",
      "metadata": {},
      "id": "490aaac4"
    },
    {
      "cell_type": "code",
      "source": "using System;\n\npublic class Program\n{\n    public static bool Inside(double x, double y, double x1, double y1, double x2, double y2)\n    {\n        if (x >= x1 && x <= x2 && y >= y1 && y <= y2)\n        {\n            return true;\n        }\n        else\n        {\n            return false;\n        }\n    }\n\n    public static void Main(string[] args)\n    {\n        bool isInsideRectangle1 = Inside(1, 1, 0, 0, 2, 3);\n        bool isInsideRectangle2 = Inside(-1, -1, 0, 0, 2, 3);\n\n        Console.WriteLine(isInsideRectangle1); // True\n        Console.WriteLine(isInsideRectangle2); // False\n\n        bool isInsideBothRectangles = Inside(1, 1, 0.3, 0.5, 1.1, 0.7) && Inside(1, 1, 0.5, 0.2, 1.1, 2);\n\n        Console.WriteLine(isInsideBothRectangles); // False\n    }\n}\n",
      "metadata": {},
      "execution_count": null,
      "outputs": [],
      "id": "3e989cb7"
    },
    {
      "cell_type": "markdown",
      "source": "True\nFalse\nFalse",
      "metadata": {},
      "id": "15eb3eff"
    },
    {
      "cell_type": "markdown",
      "source": "## Question 6 Python\n## Write a function pig() that takes a word (i.e., a string) as input and returns its pig\u0002Latin form. ",
      "metadata": {},
      "id": "201131da"
    },
    {
      "cell_type": "code",
      "source": "def pig(word):\n    vowels = ['a', 'e', 'i', 'o', 'u']\n    word = word.lower()\n    \n    if word[0] in vowels:           # condition word start with vowel\n        return word + 'way'\n    else:\n        return word[1:] + word[0] + 'ay'\n\nprint(pig('HaPPY'))  # happy\nprint(pig('Enter'))  # enterway\n",
      "metadata": {},
      "execution_count": 3,
      "outputs": [
        {
          "name": "stdout",
          "output_type": "stream",
          "text": "appyhay\n\nenterway\n"
        }
      ],
      "id": "381eb481"
    },
    {
      "cell_type": "markdown",
      "source": "## Question 7 Python\n## File bloodtype1.txt records blood-types of patients (A, B, AB, O or OO) at a clinic. Write a function bldcount() that reads the file with name name and reports (i.e., prints) how many patients there are in each bloodtype.\n",
      "metadata": {},
      "id": "0a5db3cf"
    },
    {
      "cell_type": "code",
      "source": "def bldcount(file):\n    print(\"There are\",file.count(\"AB\"), \"patients of blood type AB\")\n    print(\"There are\",file.count(\"A\") ,\"patients of blood type A\")\n    print(\"There are\",file.count(\"B\"),\"patients of blood type B\")\n    print(\"There are\",file.count(\"O\"),\"patients of blood type O\")\n    print(\"There are\",file.count(\"OO\"),\"patients of blood type OO\")\n\nlist=open(\"bloodtype.txt\")\ny=list.read()\nfile=y.split()\nprint(file)\nprint(\"The length of the list :\",len(file))\n\n\nbldcount(file)\n",
      "metadata": {},
      "execution_count": 1,
      "outputs": [
        {
          "name": "stdout",
          "output_type": "stream",
          "text": "['AB', 'AB', 'B', 'O', 'A', 'A', 'AB', 'O', 'AB', 'A', 'O', 'O', 'A', 'A', 'A', 'O', 'O', 'O', 'AB', 'O', 'A', 'A', 'A', 'A', 'A', 'AB', 'AB', 'A', 'AB', 'O', 'AB', 'O', 'A', 'O', 'O', 'O', 'AB', 'O', 'AB', 'AB', 'AB', 'A', 'A', 'O']\n\nThe length of the list : 44\n\nThere are 13 patients of blood type AB\n\nThere are 15 patients of blood type A\n\nThere are 1 patients of blood type B\n\nThere are 15 patients of blood type O\n\nThere are 0 patients of blood type OO\n"
        }
      ],
      "id": "ce78baa8"
    },
    {
      "cell_type": "markdown",
      "source": "## Question 8 Python\nWrite a function curconv() that takes as input:\n1. a currency represented using a string (e.g., 'JPY' for the Japanese Yen or \n'EUR' for the Euro)\n2. an amount\nand then converts and returns the amount in US dollars.",
      "metadata": {},
      "id": "e274e2e9"
    },
    {
      "cell_type": "code",
      "source": "def currency_converter(amount, currency):\n  conversion_rates = {'AUD': 1.0345157,'CHF':1.0237414,'CNY':0.1550176,'DKK':0.1651442,\n               'EUR':1.2296544,'GBP':1.5550989,'HKD':0.1270207, 'INR':0.0177643,\n               'JPY': 0.01241401,'MXN': 0.0751848,'MYR': 0.3145411,'NOK':0.1677063,\n               'NZD':0.8003591,'PHP':0.0233234,'SEK':0.148269,'SGD':0.788871,'THB':0.0313789}   #Dictionary of currency rates.\n  \n  conversion_rate = conversion_rates.get(currency, 0)\n  if conversion_rate == 0:\n    return None\n  \n  return amount * conversion_rate\n\namount = float(input(\"Enter the amount: \"))\ncurrency = input(\"Enter the currency: \")\n\nusd = currency_converter(amount, currency)\nif usd is None:\n  print(\"Invalid currency\")\nelse:\n  print(\"{0:.2f}\".format(amount), currency, \"is equal to\", \"{0:.2f}\".format(usd), \"USD\")",
      "metadata": {},
      "execution_count": 1,
      "outputs": [
        {
          "name": "stdout",
          "output_type": "stream",
          "text": "Enter the amount: 200\n\nEnter the currency: EUR\n\n200.00 EUR is equal to 245.93 USD\n"
        }
      ],
      "id": "9c73ac9e"
    },
    {
      "cell_type": "markdown",
      "source": "## Question 9 Python  Each of the following will cause an exception (an error). Identify what type of exception each will cause.",
      "metadata": {},
      "id": "a55c8900"
    },
    {
      "cell_type": "markdown",
      "source": "### Trying to add incompatible variables, as in adding 6 + 'a':\nAn integer (6) plus a string ('a') cannot be added, hence this will result in a TypeError. The kinds cannot be added together.\n\n### Referring to the 12th item of a list that has only 10 items:\nIt will result in  IndexError.There are only 10 entries in the list in this instance, indices 0 to 9 are valid.\n\n### Using a value that is out of range for a function's input, such as calling math.sqrt(-1.0):\nThere will be a ValueError.The math.sqrt() function requires a non-negative number to calculate the square root. A negative number, such as -1.0, is beyond the acceptable range of input for this function.\n\n### Using an undeclared variable, such as print(x) when x has not been defined:\nIt will give Name error.Variable (x) is not defined or given a value before being used in the print() statement.\n\n### Trying to open a file that does not exist, such as mistyping the file name or looking in the wrong directory:\nIt will result in FileNotFoundError because does not exist in the specified location. ",
      "metadata": {},
      "id": "3d418523"
    },
    {
      "cell_type": "markdown",
      "source": "## Question 10 Python\n## Write a function called frequencies()that takes a string as its only parameter, and returns a list of integers, showing the number of times each character appears in the text. \n",
      "metadata": {},
      "id": "d49cc051"
    },
    {
      "cell_type": "code",
      "source": "def frequencies(text):\n    letters = 'abcdefghijklmnopqrstuvwxyz'\n    frequency_list = []\n    for char in letters:\n        frequency = text.lower().count(char)\n        frequency_list.append(frequency)\n    return frequency_list\nprint(frequencies('The quick red fox got bored and went home.'))\n\nprint(frequencies('apple'))\n\n\n",
      "metadata": {},
      "execution_count": 12,
      "outputs": [
        {
          "name": "stdout",
          "output_type": "stream",
          "text": "[1, 1, 1, 3, 5, 1, 1, 2, 1, 0, 1, 0, 1, 2, 4, 0, 1, 2, 0, 3, 1, 0, 1, 1, 0, 0]\n\n[1, 0, 0, 0, 1, 0, 0, 0, 0, 0, 0, 1, 0, 0, 0, 2, 0, 0, 0, 0, 0, 0, 0, 0, 0, 0]\n"
        }
      ],
      "id": "3da5c11f"
    }
  ]
}